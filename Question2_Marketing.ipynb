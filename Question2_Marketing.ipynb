{
 "cells": [
  {
   "cell_type": "markdown",
   "metadata": {},
   "source": [
    "# Question 2 - MARKETING\n",
    "Predict What Year 20 Will Look like for A, H, and B\n",
    "We'll look at the following areas:\n",
    "* Advertising Data: Brand Advertising and Retailer Support"
   ]
  },
  {
   "cell_type": "code",
   "execution_count": 1,
   "metadata": {},
   "outputs": [
    {
     "data": {
      "text/html": [
       "<div>\n",
       "<style scoped>\n",
       "    .dataframe tbody tr th:only-of-type {\n",
       "        vertical-align: middle;\n",
       "    }\n",
       "\n",
       "    .dataframe tbody tr th {\n",
       "        vertical-align: top;\n",
       "    }\n",
       "\n",
       "    .dataframe thead th {\n",
       "        text-align: right;\n",
       "    }\n",
       "</style>\n",
       "<table border=\"1\" class=\"dataframe\">\n",
       "  <thead>\n",
       "    <tr style=\"text-align: right;\">\n",
       "      <th></th>\n",
       "      <th>ID</th>\n",
       "      <th>YEAR</th>\n",
       "      <th>A_EU_ADVERTISING</th>\n",
       "      <th>A_EU_RETAIL_SUPPORT</th>\n",
       "      <th>H_EU_ADVERTISING</th>\n",
       "      <th>H_EU_RETAIL_SUPPORT</th>\n",
       "      <th>B_EU_ADVERTISING</th>\n",
       "      <th>B_EU_RETAIL_SUPPORT</th>\n",
       "    </tr>\n",
       "  </thead>\n",
       "  <tbody>\n",
       "    <tr>\n",
       "      <th>0</th>\n",
       "      <td>4</td>\n",
       "      <td>14</td>\n",
       "      <td>12000</td>\n",
       "      <td>2750</td>\n",
       "      <td>5000</td>\n",
       "      <td>1000</td>\n",
       "      <td>28000</td>\n",
       "      <td>5000</td>\n",
       "    </tr>\n",
       "    <tr>\n",
       "      <th>1</th>\n",
       "      <td>5</td>\n",
       "      <td>15</td>\n",
       "      <td>12000</td>\n",
       "      <td>2750</td>\n",
       "      <td>5000</td>\n",
       "      <td>1000</td>\n",
       "      <td>27500</td>\n",
       "      <td>4000</td>\n",
       "    </tr>\n",
       "    <tr>\n",
       "      <th>2</th>\n",
       "      <td>6</td>\n",
       "      <td>16</td>\n",
       "      <td>14000</td>\n",
       "      <td>1000</td>\n",
       "      <td>5000</td>\n",
       "      <td>1000</td>\n",
       "      <td>30000</td>\n",
       "      <td>3000</td>\n",
       "    </tr>\n",
       "    <tr>\n",
       "      <th>3</th>\n",
       "      <td>7</td>\n",
       "      <td>17</td>\n",
       "      <td>0</td>\n",
       "      <td>1500</td>\n",
       "      <td>5000</td>\n",
       "      <td>1000</td>\n",
       "      <td>28000</td>\n",
       "      <td>3500</td>\n",
       "    </tr>\n",
       "  </tbody>\n",
       "</table>\n",
       "</div>"
      ],
      "text/plain": [
       "   ID  YEAR  A_EU_ADVERTISING  A_EU_RETAIL_SUPPORT  H_EU_ADVERTISING  \\\n",
       "0   4    14             12000                 2750              5000   \n",
       "1   5    15             12000                 2750              5000   \n",
       "2   6    16             14000                 1000              5000   \n",
       "3   7    17                 0                 1500              5000   \n",
       "\n",
       "   H_EU_RETAIL_SUPPORT  B_EU_ADVERTISING  B_EU_RETAIL_SUPPORT  \n",
       "0                 1000             28000                 5000  \n",
       "1                 1000             27500                 4000  \n",
       "2                 1000             30000                 3000  \n",
       "3                 1000             28000                 3500  "
      ]
     },
     "execution_count": 1,
     "metadata": {},
     "output_type": "execute_result"
    }
   ],
   "source": [
    "#let's grab a few packages for stats\n",
    "import matplotlib.pyplot as plt\n",
    "import numpy as np\n",
    "import pandas as pd\n",
    "\n",
    "#Set PredictionYear to 20 as a global variable (we'll use this later for regressions)\n",
    "predictionYear = 20 \n",
    "\n",
    "#Load the pricing data set for the three teams\n",
    "df = pd.read_csv('Marketing.csv')\n",
    "df"
   ]
  },
  {
   "cell_type": "markdown",
   "metadata": {},
   "source": [
    "## Functions for Re-use"
   ]
  },
  {
   "cell_type": "code",
   "execution_count": 2,
   "metadata": {},
   "outputs": [],
   "source": [
    "#1. Slope Intercept Function\n",
    "#Function to find the slope intercept of a first degree polynomial\n",
    "def getSlope(x,y): #pass in the x value, y value, and a string for printing\n",
    "    slope, intercept = np.polyfit(x,y,1).round(decimals = 4) #compute the slope\n",
    "    return slope, intercept\n",
    "\n",
    "#2. Print Slope as Formulas\n",
    "#Function to print the slope\n",
    "def printSlope(x,y,string):\n",
    "    slope, intercept = np.polyfit(x,y,1).round(decimals = 4)\n",
    "    printed_string = string + '= ' + str(slope) + 'x + ' + str(intercept)\n",
    "    return printed_string \n",
    "\n",
    "#3. Hypothetical Slope and Intercept from our data\n",
    "x_theor = np.array([14,predictionYear]) #set x_theor as it will be used in all our Linear Models\n",
    "def getYTheor(slope, x_theor, intercept): #pass in the slope, x_theor, and intercept\n",
    "    y_theor = slope * x_theor + intercept\n",
    "    return y_theor\n",
    "\n",
    "#4. Print Predicted Year using Hypothetical Slope and Intercept\n",
    "def printPrediction(slope, intercept, string): \n",
    "    prediction = 'Year ' + str(predictionYear) + ' ' + string +' predicted value: ' + str(slope * predictionYear + intercept)\n",
    "    return prediction"
   ]
  },
  {
   "cell_type": "markdown",
   "metadata": {},
   "source": [
    "### Find The Slope Intercept for each variable"
   ]
  },
  {
   "cell_type": "code",
   "execution_count": 3,
   "metadata": {},
   "outputs": [
    {
     "name": "stdout",
     "output_type": "stream",
     "text": [
      "Team A Advertising= -3400.0x + 62200.0\n",
      "Team H Advertising= 0.0x + 5000.0\n",
      "Team B Advertising= 250.0x + 24500.0\n",
      "Team A Support= -550.0x + 10525.0\n",
      "Team H Support= 0.0x + 1000.0\n",
      "Team B Support= -550.0x + 12400.0\n"
     ]
    }
   ],
   "source": [
    "#variable assignments\n",
    "x = np.array(df['YEAR'])\n",
    "y_A_eu_advertising = np.array(df['A_EU_ADVERTISING'])\n",
    "y_H_eu_advertising = np.array(df['H_EU_ADVERTISING'])\n",
    "y_B_eu_advertising = np.array(df['B_EU_ADVERTISING'])\n",
    "y_A_eu_support = np.array(df['A_EU_RETAIL_SUPPORT'])\n",
    "y_H_eu_support = np.array(df['H_EU_RETAIL_SUPPORT'])\n",
    "y_B_eu_support = np.array(df['B_EU_RETAIL_SUPPORT'])\n",
    "\n",
    "#print the slope in y=mx+b form\n",
    "print(printSlope(x,y_A_eu_advertising,'Team A Advertising'))\n",
    "print(printSlope(x,y_H_eu_advertising,'Team H Advertising'))\n",
    "print(printSlope(x,y_B_eu_advertising,'Team B Advertising'))\n",
    "print(printSlope(x,y_A_eu_support,'Team A Support'))\n",
    "print(printSlope(x,y_H_eu_support,'Team H Support'))\n",
    "print(printSlope(x,y_B_eu_support,'Team B Support'))"
   ]
  },
  {
   "cell_type": "markdown",
   "metadata": {},
   "source": [
    "### Europe Africa Advertising Predictions\n",
    "In Millions of Dollars"
   ]
  },
  {
   "cell_type": "code",
   "execution_count": 4,
   "metadata": {},
   "outputs": [
    {
     "name": "stdout",
     "output_type": "stream",
     "text": [
      "Year 20 Team A predicted value: -5800.0\n",
      "Year 20 Team H predicted value: 5000.0\n",
      "Year 20 Team B predicted value: 29500.0\n"
     ]
    },
    {
     "data": {
      "image/png": "[encoded data removed]",
      "text/plain": [
       "<Figure size 432x288 with 1 Axes>"
      ]
     },
     "metadata": {},
     "output_type": "display_data"
    }
   ],
   "source": [
    "#grab the slope and intercepts\n",
    "a_eu_advertising_slope,a_eu_advertising_intercept = getSlope(x,y_A_eu_advertising)\n",
    "h_eu_advertising_slope,h_eu_advertising_intercept = getSlope(x,y_H_eu_advertising)\n",
    "b_eu_advertising_slope,b_eu_advertising_intercept = getSlope(x,y_B_eu_advertising)\n",
    "\n",
    "#set the y theoretical\n",
    "a_y_theor = getYTheor(a_eu_advertising_slope,x_theor,a_eu_advertising_intercept)\n",
    "h_y_theor = getYTheor(h_eu_advertising_slope,x_theor,h_eu_advertising_intercept)\n",
    "b_y_theor = getYTheor(b_eu_advertising_slope,x_theor,b_eu_advertising_intercept)\n",
    "\n",
    "#print the predicted price\n",
    "print(printPrediction(a_eu_advertising_slope, a_eu_advertising_intercept, 'Team A'))\n",
    "print(printPrediction(h_eu_advertising_slope, h_eu_advertising_intercept, 'Team H'))\n",
    "print(printPrediction(b_eu_advertising_slope, b_eu_advertising_intercept, 'Team B'))\n",
    "\n",
    "#plot the anscombe data and theoretical lines\n",
    "_ = plt.plot(x,y_A_eu_advertising,marker='^', linestyle='none',color = 'blue', label='Team A')\n",
    "_ = plt.plot(x_theor,a_y_theor,label = 'Team A', color = 'blue')\n",
    "_ = plt.plot(x,y_H_eu_advertising,marker='^', linestyle='none',color = 'red', label='Team H')\n",
    "_ = plt.plot(x_theor,h_y_theor,label = 'Team H', color = 'red')\n",
    "_ = plt.plot(x,y_B_eu_advertising,marker='^', linestyle='none',color = 'green', label='Team B')\n",
    "_ = plt.plot(x_theor,b_y_theor,label = 'Team B', color = 'green')\n",
    "\n",
    "#label the axes\n",
    "plt.legend(loc='upper right')\n",
    "plt.xlabel('Year')\n",
    "plt.ylabel('Price')\n",
    "plt.title('Europe Advertising Predictions')\n",
    "plt.show()"
   ]
  },
  {
   "cell_type": "markdown",
   "metadata": {},
   "source": [
    "### Europe Africa Retailer Support Predictions\n",
    "In Thousands of Dollars"
   ]
  },
  {
   "cell_type": "code",
   "execution_count": 5,
   "metadata": {},
   "outputs": [
    {
     "name": "stdout",
     "output_type": "stream",
     "text": [
      "Year 20 Team A predicted value: -475.0\n",
      "Year 20 Team H predicted value: 1000.0\n",
      "Year 20 Team B predicted value: 1400.0\n"
     ]
    },
    {
     "data": {
      "image/png": "[encoded data removed]",
      "text/plain": [
       "<Figure size 432x288 with 1 Axes>"
      ]
     },
     "metadata": {},
     "output_type": "display_data"
    }
   ],
   "source": [
    "#grab the slope and intercepts\n",
    "a_eu_support_slope,a_eu_support_intercept = getSlope(x,y_A_eu_support)\n",
    "h_eu_support_slope,h_eu_support_intercept = getSlope(x,y_H_eu_support)\n",
    "b_eu_support_slope,b_eu_support_intercept = getSlope(x,y_B_eu_support)\n",
    "\n",
    "#set the y theoretical\n",
    "a_y_theor = getYTheor(a_eu_support_slope,x_theor,a_eu_support_intercept)\n",
    "h_y_theor = getYTheor(h_eu_support_slope,x_theor,h_eu_support_intercept)\n",
    "b_y_theor = getYTheor(b_eu_support_slope,x_theor,b_eu_support_intercept)\n",
    "\n",
    "#print the predicted price\n",
    "print(printPrediction(a_eu_support_slope, a_eu_support_intercept, 'Team A'))\n",
    "print(printPrediction(h_eu_support_slope, h_eu_support_intercept, 'Team H'))\n",
    "print(printPrediction(b_eu_support_slope, b_eu_support_intercept, 'Team B'))\n",
    "\n",
    "#plot the anscombe data and theoretical lines\n",
    "_ = plt.plot(x,y_A_eu_support,marker='^', linestyle='none',color = 'blue', label='Team A')\n",
    "_ = plt.plot(x_theor,a_y_theor,label = 'Team A', color = 'blue')\n",
    "_ = plt.plot(x,y_H_eu_support,marker='^', linestyle='none',color = 'red', label='Team H')\n",
    "_ = plt.plot(x_theor,h_y_theor,label = 'Team H', color = 'red')\n",
    "_ = plt.plot(x,y_B_eu_support,marker='^', linestyle='none',color = 'green', label='Team B')\n",
    "_ = plt.plot(x_theor,b_y_theor,label = 'Team B', color = 'green')\n",
    "\n",
    "#label the axes\n",
    "plt.legend(loc='upper right')\n",
    "plt.xlabel('Year')\n",
    "plt.ylabel('Price')\n",
    "plt.title('Europe Retailer Support Predictions')\n",
    "plt.show()"
   ]
  }
 ],
 "metadata": {
  "kernelspec": {
   "display_name": "Python 3",
   "language": "python",
   "name": "python3"
  },
  "language_info": {
   "codemirror_mode": {
    "name": "ipython",
    "version": 3
   },
   "file_extension": ".py",
   "mimetype": "text/x-python",
   "name": "python",
   "nbconvert_exporter": "python",
   "pygments_lexer": "ipython3",
   "version": "3.6.5"
  }
 },
 "nbformat": 4,
 "nbformat_minor": 2
}
