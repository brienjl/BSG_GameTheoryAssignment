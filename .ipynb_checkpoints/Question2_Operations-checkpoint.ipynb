{
 "cells": [
  {
   "cell_type": "markdown",
   "metadata": {},
   "source": [
    "# Question 2 - OPERATIONS\n",
    "Predict What Year 20 Will Look like for A, H, and B\n",
    "We'll look at the following areas:\n",
    "* Operations Data: Rebate, Delivery Time, Number of Outlets Carrying the Brand"
   ]
  },
  {
   "cell_type": "code",
   "execution_count": 11,
   "metadata": {},
   "outputs": [
    {
     "data": {
      "text/html": [
       "<div>\n",
       "<style scoped>\n",
       "    .dataframe tbody tr th:only-of-type {\n",
       "        vertical-align: middle;\n",
       "    }\n",
       "\n",
       "    .dataframe tbody tr th {\n",
       "        vertical-align: top;\n",
       "    }\n",
       "\n",
       "    .dataframe thead th {\n",
       "        text-align: right;\n",
       "    }\n",
       "</style>\n",
       "<table border=\"1\" class=\"dataframe\">\n",
       "  <thead>\n",
       "    <tr style=\"text-align: right;\">\n",
       "      <th></th>\n",
       "      <th>ID</th>\n",
       "      <th>YEAR</th>\n",
       "      <th>A_EU_REBATE</th>\n",
       "      <th>H_EU_REBATE</th>\n",
       "      <th>B_EU_REBATE</th>\n",
       "      <th>A_EU_DELIVERY_TIME</th>\n",
       "      <th>H_EU_DELIVERY_TIME</th>\n",
       "      <th>B_EU_DELIVERY_TIME</th>\n",
       "      <th>A_EU_OUTLETS</th>\n",
       "      <th>H_EU_OUTLETS</th>\n",
       "      <th>B_EU_OUTLETS</th>\n",
       "    </tr>\n",
       "  </thead>\n",
       "  <tbody>\n",
       "    <tr>\n",
       "      <th>0</th>\n",
       "      <td>4</td>\n",
       "      <td>14</td>\n",
       "      <td>5</td>\n",
       "      <td>0</td>\n",
       "      <td>5</td>\n",
       "      <td>1</td>\n",
       "      <td>1</td>\n",
       "      <td>2</td>\n",
       "      <td>869</td>\n",
       "      <td>1390</td>\n",
       "      <td>2990</td>\n",
       "    </tr>\n",
       "    <tr>\n",
       "      <th>1</th>\n",
       "      <td>5</td>\n",
       "      <td>15</td>\n",
       "      <td>6</td>\n",
       "      <td>0</td>\n",
       "      <td>4</td>\n",
       "      <td>1</td>\n",
       "      <td>1</td>\n",
       "      <td>2</td>\n",
       "      <td>772</td>\n",
       "      <td>1208</td>\n",
       "      <td>2570</td>\n",
       "    </tr>\n",
       "    <tr>\n",
       "      <th>2</th>\n",
       "      <td>6</td>\n",
       "      <td>16</td>\n",
       "      <td>7</td>\n",
       "      <td>0</td>\n",
       "      <td>4</td>\n",
       "      <td>1</td>\n",
       "      <td>1</td>\n",
       "      <td>2</td>\n",
       "      <td>669</td>\n",
       "      <td>1062</td>\n",
       "      <td>2133</td>\n",
       "    </tr>\n",
       "    <tr>\n",
       "      <th>3</th>\n",
       "      <td>7</td>\n",
       "      <td>17</td>\n",
       "      <td>8</td>\n",
       "      <td>4</td>\n",
       "      <td>4</td>\n",
       "      <td>1</td>\n",
       "      <td>1</td>\n",
       "      <td>2</td>\n",
       "      <td>586</td>\n",
       "      <td>935</td>\n",
       "      <td>1795</td>\n",
       "    </tr>\n",
       "  </tbody>\n",
       "</table>\n",
       "</div>"
      ],
      "text/plain": [
       "   ID  YEAR  A_EU_REBATE  H_EU_REBATE  B_EU_REBATE  A_EU_DELIVERY_TIME  \\\n",
       "0   4    14            5            0            5                   1   \n",
       "1   5    15            6            0            4                   1   \n",
       "2   6    16            7            0            4                   1   \n",
       "3   7    17            8            4            4                   1   \n",
       "\n",
       "   H_EU_DELIVERY_TIME  B_EU_DELIVERY_TIME  A_EU_OUTLETS  H_EU_OUTLETS  \\\n",
       "0                   1                   2           869          1390   \n",
       "1                   1                   2           772          1208   \n",
       "2                   1                   2           669          1062   \n",
       "3                   1                   2           586           935   \n",
       "\n",
       "   B_EU_OUTLETS  \n",
       "0          2990  \n",
       "1          2570  \n",
       "2          2133  \n",
       "3          1795  "
      ]
     },
     "execution_count": 11,
     "metadata": {},
     "output_type": "execute_result"
    }
   ],
   "source": [
    "#let's grab a few packages for stats\n",
    "import matplotlib.pyplot as plt\n",
    "import numpy as np\n",
    "import pandas as pd\n",
    "\n",
    "#Set PredictionYear to 20 as a global variable (we'll use this later for regressions)\n",
    "predictionYear = 20 \n",
    "\n",
    "#Load the pricing data set for the three teams\n",
    "df = pd.read_csv('Operations.csv')\n",
    "df"
   ]
  },
  {
   "cell_type": "markdown",
   "metadata": {},
   "source": [
    "## Functions for Re-Use"
   ]
  },
  {
   "cell_type": "code",
   "execution_count": 18,
   "metadata": {},
   "outputs": [],
   "source": [
    "#1. Slope Intercept Function\n",
    "#Function to find the slope intercept of a first degree polynomial\n",
    "def getSlope(x,y): #pass in the x value, y value, and a string for printing\n",
    "    slope, intercept = np.polyfit(x,y,1).round(decimals = 4) #compute the slope\n",
    "    return slope, intercept\n",
    "\n",
    "#2. Print Slope as Formulas\n",
    "#Function to print the slope\n",
    "def printSlope(x,y,string):\n",
    "    slope, intercept = np.polyfit(x,y,1).round(decimals = 4)\n",
    "    printed_string = string + '= ' + str(slope) + 'x + ' + str(intercept)\n",
    "    return printed_string \n",
    "\n",
    "#3. Hypothetical Slope and Intercept from our data\n",
    "x_theor = np.array([14,predictionYear]) #set x_theor as it will be used in all our Linear Models\n",
    "def getYTheor(slope, x_theor, intercept): #pass in the slope, x_theor, and intercept\n",
    "    y_theor = slope * x_theor + intercept\n",
    "    return y_theor\n",
    "\n",
    "#4. Print Predicted Year using Hypothetical Slope and Intercept\n",
    "def printPrediction(slope, intercept, string): \n",
    "    prediction = 'Year ' + str(predictionYear) + ' ' + string +' predicted value: ' + str(slope * predictionYear + intercept)\n",
    "    return prediction"
   ]
  },
  {
   "cell_type": "markdown",
   "metadata": {},
   "source": [
    "### Find The Slope Intercept for each variable"
   ]
  },
  {
   "cell_type": "code",
   "execution_count": 19,
   "metadata": {},
   "outputs": [
    {
     "name": "stdout",
     "output_type": "stream",
     "text": [
      "Team A Rebate= 1.0x + -9.0\n",
      "Team H Rebate= 1.2x + -17.6\n",
      "Team B Rebate= -0.3x + 8.9\n",
      "Team A Delivery= 0.0x + 1.0\n",
      "Team H Delivery= 0.0x + 1.0\n",
      "Team B Delivery= 0.0x + 2.0\n",
      "Team A Outlets= -95.2x + 2199.6\n",
      "Team H Outlets= -151.1x + 3490.8\n",
      "Team B Outlets= -402.2x + 8606.1\n"
     ]
    }
   ],
   "source": [
    "#variable assignments\n",
    "x = np.array(df['YEAR'])\n",
    "y_A_eu_rebate = np.array(df['A_EU_REBATE'])\n",
    "y_H_eu_rebate = np.array(df['H_EU_REBATE'])\n",
    "y_B_eu_rebate = np.array(df['B_EU_REBATE'])\n",
    "y_A_eu_delivery = np.array(df['A_EU_DELIVERY_TIME'])\n",
    "y_H_eu_delivery = np.array(df['H_EU_DELIVERY_TIME'])\n",
    "y_B_eu_delivery = np.array(df['B_EU_DELIVERY_TIME'])\n",
    "y_A_eu_rebate = np.array(df['A_EU_REBATE'])\n",
    "y_H_eu_rebate = np.array(df['H_EU_REBATE'])\n",
    "y_B_eu_rebate = np.array(df['B_EU_REBATE'])\n",
    "y_A_eu_outlets = np.array(df['A_EU_OUTLETS'])\n",
    "y_H_eu_outlets = np.array(df['H_EU_OUTLETS'])\n",
    "y_B_eu_outlets = np.array(df['B_EU_OUTLETS'])\n",
    "\n",
    "#print the slope in y=mx+b form\n",
    "print(printSlope(x,y_A_eu_rebate,'Team A Rebate'))\n",
    "print(printSlope(x,y_H_eu_rebate,'Team H Rebate'))\n",
    "print(printSlope(x,y_B_eu_rebate,'Team B Rebate'))\n",
    "print(printSlope(x,y_A_eu_delivery,'Team A Delivery'))\n",
    "print(printSlope(x,y_H_eu_delivery,'Team H Delivery'))\n",
    "print(printSlope(x,y_B_eu_delivery,'Team B Delivery'))\n",
    "print(printSlope(x,y_A_eu_outlets,'Team A Outlets'))\n",
    "print(printSlope(x,y_H_eu_outlets,'Team H Outlets'))\n",
    "print(printSlope(x,y_B_eu_outlets,'Team B Outlets'))"
   ]
  },
  {
   "cell_type": "markdown",
   "metadata": {},
   "source": [
    "### Europe Africa Wholesale Rebate Predictions\n",
    "In Dollars per shoe"
   ]
  },
  {
   "cell_type": "code",
   "execution_count": 20,
   "metadata": {},
   "outputs": [
    {
     "name": "stdout",
     "output_type": "stream",
     "text": [
      "Year 20 Team A predicted value: 11.0\n",
      "Year 20 Team H predicted value: 6.399999999999999\n",
      "Year 20 Team B predicted value: 2.9000000000000004\n"
     ]
    },
    {
     "data": {
      "image/png": "[encoded data removed]",
      "text/plain": [
       "<Figure size 432x288 with 1 Axes>"
      ]
     },
     "metadata": {},
     "output_type": "display_data"
    }
   ],
   "source": [
    "#grab the slope and intercepts\n",
    "a_eu_rebate_slope,a_eu_rebate_intercept = getSlope(x,y_A_eu_rebate)\n",
    "h_eu_rebate_slope,h_eu_rebate_intercept = getSlope(x,y_H_eu_rebate)\n",
    "b_eu_rebate_slope,b_eu_rebate_intercept = getSlope(x,y_B_eu_rebate)\n",
    "\n",
    "#set the y theoretical\n",
    "a_y_theor = getYTheor(a_eu_rebate_slope,x_theor,a_eu_rebate_intercept)\n",
    "h_y_theor = getYTheor(h_eu_rebate_slope,x_theor,h_eu_rebate_intercept)\n",
    "b_y_theor = getYTheor(b_eu_rebate_slope,x_theor,b_eu_rebate_intercept)\n",
    "\n",
    "#print the predicted price\n",
    "print(printPrediction(a_eu_rebate_slope, a_eu_rebate_intercept, 'Team A'))\n",
    "print(printPrediction(h_eu_rebate_slope, h_eu_rebate_intercept, 'Team H'))\n",
    "print(printPrediction(b_eu_rebate_slope, b_eu_rebate_intercept, 'Team B'))\n",
    "\n",
    "#plot the anscombe data and theoretical lines\n",
    "_ = plt.plot(x,y_A_eu_rebate,marker='^', linestyle='none',color = 'blue', label='Team A')\n",
    "_ = plt.plot(x_theor,a_y_theor,label = 'Team A', color = 'blue')\n",
    "_ = plt.plot(x,y_H_eu_rebate,marker='^', linestyle='none',color = 'red', label='Team H')\n",
    "_ = plt.plot(x_theor,h_y_theor,label = 'Team H', color = 'red')\n",
    "_ = plt.plot(x,y_B_eu_rebate,marker='^', linestyle='none',color = 'green', label='Team B')\n",
    "_ = plt.plot(x_theor,b_y_theor,label = 'Team B', color = 'green')\n",
    "\n",
    "#label the axes\n",
    "plt.legend(loc='upper right')\n",
    "plt.xlabel('Year')\n",
    "plt.ylabel('Price')\n",
    "plt.title('Europe Rebate Predictions')\n",
    "plt.show()"
   ]
  },
  {
   "cell_type": "markdown",
   "metadata": {},
   "source": [
    "### Europe Africa Wholesale Delivery Time\n",
    "In weeks"
   ]
  },
  {
   "cell_type": "code",
   "execution_count": 21,
   "metadata": {},
   "outputs": [
    {
     "name": "stdout",
     "output_type": "stream",
     "text": [
      "Year 20 Team A predicted value: 1.0\n",
      "Year 20 Team H predicted value: 1.0\n",
      "Year 20 Team B predicted value: 2.0\n"
     ]
    },
    {
     "data": {
      "image/png": "[encoded data removed]",
      "text/plain": [
       "<Figure size 432x288 with 1 Axes>"
      ]
     },
     "metadata": {},
     "output_type": "display_data"
    }
   ],
   "source": [
    "#grab the slope and intercepts\n",
    "a_eu_delivery_slope,a_eu_delivery_intercept = getSlope(x,y_A_eu_delivery)\n",
    "h_eu_delivery_slope,h_eu_delivery_intercept = getSlope(x,y_H_eu_delivery)\n",
    "b_eu_delivery_slope,b_eu_delivery_intercept = getSlope(x,y_B_eu_delivery)\n",
    "\n",
    "#set the y theoretical\n",
    "a_y_theor = getYTheor(a_eu_delivery_slope,x_theor,a_eu_delivery_intercept)\n",
    "h_y_theor = getYTheor(h_eu_delivery_slope,x_theor,h_eu_delivery_intercept)\n",
    "b_y_theor = getYTheor(b_eu_delivery_slope,x_theor,b_eu_delivery_intercept)\n",
    "\n",
    "#print the predicted price\n",
    "print(printPrediction(a_eu_delivery_slope, a_eu_delivery_intercept, 'Team A'))\n",
    "print(printPrediction(h_eu_delivery_slope, h_eu_delivery_intercept, 'Team H'))\n",
    "print(printPrediction(b_eu_delivery_slope, b_eu_delivery_intercept, 'Team B'))\n",
    "\n",
    "#plot the anscombe data and theoretical lines\n",
    "_ = plt.plot(x,y_A_eu_delivery,marker='^', linestyle='none',color = 'blue', label='Team A')\n",
    "_ = plt.plot(x_theor,a_y_theor,label = 'Team A', color = 'blue')\n",
    "_ = plt.plot(x,y_H_eu_delivery,marker='^', linestyle='none',color = 'red', label='Team H')\n",
    "_ = plt.plot(x_theor,h_y_theor,label = 'Team H', color = 'red')\n",
    "_ = plt.plot(x,y_B_eu_delivery,marker='*', linestyle='none',color = 'green', label='Team B')\n",
    "_ = plt.plot(x_theor,b_y_theor,label = 'Team B', color = 'green')\n",
    "\n",
    "#label the axes\n",
    "plt.legend(loc='upper right')\n",
    "plt.xlabel('Year')\n",
    "plt.ylabel('Price')\n",
    "plt.title('Europe Delivery time Predictions')\n",
    "plt.show()"
   ]
  },
  {
   "cell_type": "markdown",
   "metadata": {},
   "source": [
    "### Europe Africa Wholesale Outlets\n",
    "In Number of Outlets willing to carry the Company's shoe"
   ]
  },
  {
   "cell_type": "code",
   "execution_count": 23,
   "metadata": {},
   "outputs": [
    {
     "name": "stdout",
     "output_type": "stream",
     "text": [
      "Year 20 Team A predicted value: 295.5999999999999\n",
      "Year 20 Team H predicted value: 468.8000000000002\n",
      "Year 20 Team B predicted value: 562.1000000000004\n"
     ]
    },
    {
     "data": {
      "image/png": "[encoded data removed]",
      "text/plain": [
       "<Figure size 432x288 with 1 Axes>"
      ]
     },
     "metadata": {},
     "output_type": "display_data"
    }
   ],
   "source": [
    "#grab the slope and intercepts\n",
    "a_eu_outlets_slope,a_eu_outlets_intercept = getSlope(x,y_A_eu_outlets)\n",
    "h_eu_outlets_slope,h_eu_outlets_intercept = getSlope(x,y_H_eu_outlets)\n",
    "b_eu_outlets_slope,b_eu_outlets_intercept = getSlope(x,y_B_eu_outlets)\n",
    "\n",
    "#set the y theoretical\n",
    "a_y_theor = getYTheor(a_eu_outlets_slope,x_theor,a_eu_outlets_intercept)\n",
    "h_y_theor = getYTheor(h_eu_outlets_slope,x_theor,h_eu_outlets_intercept)\n",
    "b_y_theor = getYTheor(b_eu_outlets_slope,x_theor,b_eu_outlets_intercept)\n",
    "\n",
    "#print the predicted value\n",
    "print(printPrediction(a_eu_outlets_slope, a_eu_outlets_intercept, 'Team A'))\n",
    "print(printPrediction(h_eu_outlets_slope, h_eu_outlets_intercept, 'Team H'))\n",
    "print(printPrediction(b_eu_outlets_slope, b_eu_outlets_intercept, 'Team B'))\n",
    "\n",
    "#plot the anscombe data and theoretical lines\n",
    "_ = plt.plot(x,y_A_eu_outlets,marker='^', linestyle='none',color = 'blue', label='Team A')\n",
    "_ = plt.plot(x_theor,a_y_theor,label = 'Team A', color = 'blue')\n",
    "_ = plt.plot(x,y_H_eu_outlets,marker='^', linestyle='none',color = 'red', label='Team H')\n",
    "_ = plt.plot(x_theor,h_y_theor,label = 'Team H', color = 'red')\n",
    "_ = plt.plot(x,y_B_eu_outlets,marker='^', linestyle='none',color = 'green', label='Team B')\n",
    "_ = plt.plot(x_theor,b_y_theor,label = 'Team B', color = 'green')\n",
    "\n",
    "#label the axes\n",
    "plt.legend(loc='upper right')\n",
    "plt.xlabel('Year')\n",
    "plt.ylabel('Price')\n",
    "plt.title('Europe Outlet # Predictions')\n",
    "plt.show()"
   ]
  },
  {
   "cell_type": "code",
   "execution_count": null,
   "metadata": {},
   "outputs": [],
   "source": []
  }
 ],
 "metadata": {
  "kernelspec": {
   "display_name": "Python 3",
   "language": "python",
   "name": "python3"
  },
  "language_info": {
   "codemirror_mode": {
    "name": "ipython",
    "version": 3
   },
   "file_extension": ".py",
   "mimetype": "text/x-python",
   "name": "python",
   "nbconvert_exporter": "python",
   "pygments_lexer": "ipython3",
   "version": "3.6.5"
  }
 },
 "nbformat": 4,
 "nbformat_minor": 2
}
