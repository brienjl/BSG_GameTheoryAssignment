{
 "cells": [
  {
   "cell_type": "markdown",
   "metadata": {},
   "source": [
    "# Question 2 - PRICING\n",
    "Predict What Year 20 Will Look like for A, H, and B\n",
    "We'll look at the following areas:\n",
    "* Pricing Data: Wholesale Pricing\n",
    "* Operations Data: Rebate, Delivery Time, Number of Outlets Carrying the Brand\n",
    "* Advertising Data: Brand Advertising and Retailer Support"
   ]
  },
  {
   "cell_type": "code",
   "execution_count": 40,
   "metadata": {},
   "outputs": [
    {
     "data": {
      "text/html": [
       "<div>\n",
       "<style scoped>\n",
       "    .dataframe tbody tr th:only-of-type {\n",
       "        vertical-align: middle;\n",
       "    }\n",
       "\n",
       "    .dataframe tbody tr th {\n",
       "        vertical-align: top;\n",
       "    }\n",
       "\n",
       "    .dataframe thead th {\n",
       "        text-align: right;\n",
       "    }\n",
       "</style>\n",
       "<table border=\"1\" class=\"dataframe\">\n",
       "  <thead>\n",
       "    <tr style=\"text-align: right;\">\n",
       "      <th></th>\n",
       "      <th>ID</th>\n",
       "      <th>YEAR</th>\n",
       "      <th>A_EU_WHOLESALE</th>\n",
       "      <th>H_EU_WHOLESALE</th>\n",
       "      <th>B_EU_WHOLESALE</th>\n",
       "    </tr>\n",
       "  </thead>\n",
       "  <tbody>\n",
       "    <tr>\n",
       "      <th>0</th>\n",
       "      <td>4</td>\n",
       "      <td>14</td>\n",
       "      <td>70</td>\n",
       "      <td>70</td>\n",
       "      <td>70.99</td>\n",
       "    </tr>\n",
       "    <tr>\n",
       "      <th>1</th>\n",
       "      <td>5</td>\n",
       "      <td>15</td>\n",
       "      <td>85</td>\n",
       "      <td>77</td>\n",
       "      <td>71.49</td>\n",
       "    </tr>\n",
       "    <tr>\n",
       "      <th>2</th>\n",
       "      <td>6</td>\n",
       "      <td>16</td>\n",
       "      <td>85</td>\n",
       "      <td>77</td>\n",
       "      <td>68.25</td>\n",
       "    </tr>\n",
       "    <tr>\n",
       "      <th>3</th>\n",
       "      <td>7</td>\n",
       "      <td>17</td>\n",
       "      <td>73</td>\n",
       "      <td>81</td>\n",
       "      <td>68.25</td>\n",
       "    </tr>\n",
       "  </tbody>\n",
       "</table>\n",
       "</div>"
      ],
      "text/plain": [
       "   ID  YEAR  A_EU_WHOLESALE  H_EU_WHOLESALE  B_EU_WHOLESALE\n",
       "0   4    14              70              70           70.99\n",
       "1   5    15              85              77           71.49\n",
       "2   6    16              85              77           68.25\n",
       "3   7    17              73              81           68.25"
      ]
     },
     "execution_count": 40,
     "metadata": {},
     "output_type": "execute_result"
    }
   ],
   "source": [
    "#let's grab a few packages for stats\n",
    "import matplotlib.pyplot as plt\n",
    "import numpy as np\n",
    "import pandas as pd\n",
    "\n",
    "#Set PredictionYear to 20 as a global variable (we'll use this later for regressions)\n",
    "predictionYear = 20 \n",
    "\n",
    "#Load the pricing data set for the three teams\n",
    "df = pd.read_csv('Pricing.csv')\n",
    "df"
   ]
  },
  {
   "cell_type": "markdown",
   "metadata": {},
   "source": [
    "## Functions for Re-Use"
   ]
  },
  {
   "cell_type": "code",
   "execution_count": 41,
   "metadata": {},
   "outputs": [],
   "source": [
    "#1. Slope Intercept Function\n",
    "#Function to find the slope intercept of a first degree polynomial\n",
    "def getSlope(x,y): #pass in the x value, y value, and a string for printing\n",
    "    slope, intercept = np.polyfit(x,y,1).round(decimals = 4) #compute the slope\n",
    "    return slope, intercept\n",
    "\n",
    "#2. Print Slope as Formulas\n",
    "#Function to print the slope\n",
    "def printSlope(x,y,string):\n",
    "    slope, intercept = np.polyfit(x,y,1).round(decimals = 4)\n",
    "    printed_string = string + '= ' + str(slope) + 'x + ' + str(intercept)\n",
    "    return printed_string \n",
    "\n",
    "#3. Hypothetical Slope and Intercept from our data\n",
    "x_theor = np.array([14,predictionYear]) #set x_theor as it will be used in all our Linear Models\n",
    "def getYTheor(slope, x_theor, intercept): #pass in the slope, x_theor, and intercept\n",
    "    y_theor = slope * x_theor + intercept\n",
    "    return y_theor\n",
    "\n",
    "#4. Print Predicted Year using Hypothetical Slope and Intercept\n",
    "def printPrediction(slope, intercept, string): \n",
    "    prediction = 'Year ' + str(predictionYear) + ' ' + string +' predicted price: ' + str(slope * predictionYear + intercept)\n",
    "    return prediction\n"
   ]
  },
  {
   "cell_type": "markdown",
   "metadata": {},
   "source": [
    "### Find The Slope Intercept for each variable"
   ]
  },
  {
   "cell_type": "code",
   "execution_count": 42,
   "metadata": {},
   "outputs": [
    {
     "name": "stdout",
     "output_type": "stream",
     "text": [
      "Team A Price= 0.9x + 64.3\n",
      "Team H Price= 3.3x + 25.1\n",
      "Team B Price= -1.146x + 87.508\n"
     ]
    }
   ],
   "source": [
    "\n",
    "#variable assignments\n",
    "x = np.array(df['YEAR'])\n",
    "y_A_eu_wholesale = np.array(df['A_EU_WHOLESALE'])\n",
    "y_H_eu_wholesale = np.array(df['H_EU_WHOLESALE'])\n",
    "y_B_eu_wholesale = np.array(df['B_EU_WHOLESALE'])\n",
    "\n",
    "#print the slope in y=mx+b form\n",
    "print(printSlope(x,y_A_eu_wholesale,'Team A Price'))\n",
    "print(printSlope(x,y_H_eu_wholesale,'Team H Price'))\n",
    "print(printSlope(x,y_B_eu_wholesale,'Team B Price'))"
   ]
  },
  {
   "cell_type": "markdown",
   "metadata": {},
   "source": [
    "### Europe Africa Wholesale Price Predictions\n"
   ]
  },
  {
   "cell_type": "code",
   "execution_count": 43,
   "metadata": {},
   "outputs": [
    {
     "name": "stdout",
     "output_type": "stream",
     "text": [
      "Year 20 Team A predicted price: 82.3\n",
      "Year 20 Team H predicted price: 91.1\n",
      "Year 20 Team B predicted price: 64.588\n"
     ]
    },
    {
     "data": {
      "image/png": "[encoded data removed]",
      "text/plain": [
       "<Figure size 432x288 with 1 Axes>"
      ]
     },
     "metadata": {},
     "output_type": "display_data"
    }
   ],
   "source": [
    "\n",
    "#grab the slope and intercepts\n",
    "a_eu_wholesale_slope,a_eu_wholesale_intercept = getSlope(x,y_A_eu_wholesale)\n",
    "h_eu_wholesale_slope,h_eu_wholesale_intercept = getSlope(x,y_H_eu_wholesale)\n",
    "b_eu_wholesale_slope,b_eu_wholesale_intercept = getSlope(x,y_B_eu_wholesale)\n",
    "\n",
    "#set the y theoretical\n",
    "a_y_theor = getYTheor(a_eu_wholesale_slope,x_theor,a_eu_wholesale_intercept)\n",
    "h_y_theor = getYTheor(h_eu_wholesale_slope,x_theor,h_eu_wholesale_intercept)\n",
    "b_y_theor = getYTheor(b_eu_wholesale_slope,x_theor,b_eu_wholesale_intercept)\n",
    "\n",
    "#print the predicted price\n",
    "print(printPrediction(a_eu_wholesale_slope, a_eu_wholesale_intercept, 'Team A'))\n",
    "print(printPrediction(h_eu_wholesale_slope, h_eu_wholesale_intercept, 'Team H'))\n",
    "print(printPrediction(b_eu_wholesale_slope, b_eu_wholesale_intercept, 'Team B'))\n",
    "\n",
    "#plot the anscombe data and theoretical lines\n",
    "_ = plt.plot(x,y_A_eu_wholesale,marker='^', linestyle='none',color = 'blue', label='Team A')\n",
    "_ = plt.plot(x_theor,a_y_theor,label = 'Team A', color = 'blue')\n",
    "_ = plt.plot(x,y_H_eu_wholesale,marker='^', linestyle='none',color = 'red', label='Team H')\n",
    "_ = plt.plot(x_theor,h_y_theor,label = 'Team H', color = 'red')\n",
    "_ = plt.plot(x,y_B_eu_wholesale,marker='^', linestyle='none',color = 'green', label='Team B')\n",
    "_ = plt.plot(x_theor,b_y_theor,label = 'Team B', color = 'green')\n",
    "\n",
    "#label the axes\n",
    "plt.legend(loc='upper right')\n",
    "plt.xlabel('Year')\n",
    "plt.ylabel('Price')\n",
    "plt.title('Europe Price Prediction')\n",
    "plt.show()"
   ]
  }
 ],
 "metadata": {
  "kernelspec": {
   "display_name": "Python 3",
   "language": "python",
   "name": "python3"
  },
  "language_info": {
   "codemirror_mode": {
    "name": "ipython",
    "version": 3
   },
   "file_extension": ".py",
   "mimetype": "text/x-python",
   "name": "python",
   "nbconvert_exporter": "python",
   "pygments_lexer": "ipython3",
   "version": "3.6.5"
  }
 },
 "nbformat": 4,
 "nbformat_minor": 2
}
